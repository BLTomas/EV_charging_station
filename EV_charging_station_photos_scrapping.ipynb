{
 "cells": [
  {
   "cell_type": "code",
   "execution_count": 50,
   "id": "2c3951eb",
   "metadata": {
    "ExecuteTime": {
     "end_time": "2023-05-16T18:40:49.616091Z",
     "start_time": "2023-05-16T18:40:49.607090Z"
    }
   },
   "outputs": [],
   "source": [
    "import requests\n",
    "import shutil\n",
    "import os.path\n",
    "import pandas as pd\n",
    "import time\n",
    "import json\n",
    "import random\n",
    "\n",
    "import nest_asyncio\n",
    "\n",
    "nest_asyncio.apply()\n",
    "import asyncio\n",
    "import aiohttp\n",
    "\n",
    "user_agents = [\n",
    "    \"Mozilla/5.0 (Windows NT 10.0; Win64; x64) AppleWebKit/537.36 (KHTML, like Gecko) Chrome/109.0.0.0 Safari/537.36\",\n",
    "    \"Mozilla/5.0 (Windows NT 10.0; WOW64) AppleWebKit/537.36 (KHTML, like Gecko) Chrome/108.0.0.0 Safari/537.36\",\n",
    "    \"Mozilla/5.0 (Windows NT 10.0) AppleWebKit/537.36 (KHTML, like Gecko) Chrome/108.0.0.0 Safari/537.36\",\n",
    "]"
   ]
  },
  {
   "cell_type": "code",
   "execution_count": 51,
   "id": "669e925c",
   "metadata": {
    "ExecuteTime": {
     "end_time": "2023-05-16T18:40:49.726923Z",
     "start_time": "2023-05-16T18:40:49.622044Z"
    },
    "code_folding": []
   },
   "outputs": [
    {
     "data": {
      "text/html": [
       "<div>\n",
       "<style scoped>\n",
       "    .dataframe tbody tr th:only-of-type {\n",
       "        vertical-align: middle;\n",
       "    }\n",
       "\n",
       "    .dataframe tbody tr th {\n",
       "        vertical-align: top;\n",
       "    }\n",
       "\n",
       "    .dataframe thead th {\n",
       "        text-align: right;\n",
       "    }\n",
       "</style>\n",
       "<table border=\"1\" class=\"dataframe\">\n",
       "  <thead>\n",
       "    <tr style=\"text-align: right;\">\n",
       "      <th></th>\n",
       "      <th>id</th>\n",
       "      <th>date</th>\n",
       "      <th>image</th>\n",
       "    </tr>\n",
       "  </thead>\n",
       "  <tbody>\n",
       "    <tr>\n",
       "      <th>0</th>\n",
       "      <td>186305502</td>\n",
       "      <td>1684262201000</td>\n",
       "      <td>https://www.eismoinfo.lt/eismoinfo-backend/ima...</td>\n",
       "    </tr>\n",
       "  </tbody>\n",
       "</table>\n",
       "</div>"
      ],
      "text/plain": [
       "          id           date                                              image\n",
       "0  186305502  1684262201000  https://www.eismoinfo.lt/eismoinfo-backend/ima..."
      ]
     },
     "execution_count": 51,
     "metadata": {},
     "output_type": "execute_result"
    }
   ],
   "source": [
    "def get_data(page_size):\n",
    "    page = requests.get(\n",
    "        f\"https://eismoinfo.lt/eismoinfo-backend/camera-info-table/4044?pageNumber=0&pageSize={page_size}\"\n",
    "    ).content.decode()\n",
    "    df = pd.DataFrame(json.loads(page).get(\"info\"))\n",
    "    return df\n",
    "\n",
    "\n",
    "df = get_data(page_size=1)\n",
    "df.head()"
   ]
  },
  {
   "cell_type": "code",
   "execution_count": 53,
   "id": "63a4ec7f",
   "metadata": {
    "ExecuteTime": {
     "end_time": "2023-05-16T18:40:51.261440Z",
     "start_time": "2023-05-16T18:40:49.736871Z"
    }
   },
   "outputs": [],
   "source": [
    "async def download_file(session, url, filename):\n",
    "    async with session.get(\n",
    "        url, headers={\"User-Agent\": random.choice(user_agents)}\n",
    "    ) as response:\n",
    "        with open(filename, \"wb\") as f:\n",
    "            while True:\n",
    "                chunk = await response.content.read(1024)\n",
    "                if not chunk:\n",
    "                    break\n",
    "                f.write(chunk)\n",
    "    # Add random sleep time between requests\n",
    "    await asyncio.sleep(random.uniform(1, 3))\n",
    "\n",
    "\n",
    "async def main():\n",
    "    urls = df[\"image\"].tolist()\n",
    "    photo_ids = df[\"id\"].tolist()\n",
    "    # Set up aiohttp client session\n",
    "    async with aiohttp.ClientSession() as session:\n",
    "        # Create list of async tasks\n",
    "        tasks = []\n",
    "        for photo_id, url in zip(photo_ids, urls):\n",
    "            filename = os.path.join(\n",
    "                os.path.abspath(\"\"), \"Photos_for_model\\\\%s.jpg\" % photo_id\n",
    "            )\n",
    "            task = asyncio.create_task(download_file(session, url, filename))\n",
    "            tasks.append(task)\n",
    "        # Run async tasks in parallel\n",
    "        await asyncio.gather(*tasks)\n",
    "\n",
    "\n",
    "asyncio.run(main())"
   ]
  }
 ],
 "metadata": {
  "kernelspec": {
   "display_name": "Python 3 (ipykernel)",
   "language": "python",
   "name": "python3"
  },
  "language_info": {
   "codemirror_mode": {
    "name": "ipython",
    "version": 3
   },
   "file_extension": ".py",
   "mimetype": "text/x-python",
   "name": "python",
   "nbconvert_exporter": "python",
   "pygments_lexer": "ipython3",
   "version": "3.9.13"
  },
  "toc": {
   "base_numbering": 1,
   "nav_menu": {},
   "number_sections": true,
   "sideBar": true,
   "skip_h1_title": false,
   "title_cell": "Table of Contents",
   "title_sidebar": "Contents",
   "toc_cell": false,
   "toc_position": {},
   "toc_section_display": true,
   "toc_window_display": false
  },
  "varInspector": {
   "cols": {
    "lenName": 16,
    "lenType": 16,
    "lenVar": 40
   },
   "kernels_config": {
    "python": {
     "delete_cmd_postfix": "",
     "delete_cmd_prefix": "del ",
     "library": "var_list.py",
     "varRefreshCmd": "print(var_dic_list())"
    },
    "r": {
     "delete_cmd_postfix": ") ",
     "delete_cmd_prefix": "rm(",
     "library": "var_list.r",
     "varRefreshCmd": "cat(var_dic_list()) "
    }
   },
   "types_to_exclude": [
    "module",
    "function",
    "builtin_function_or_method",
    "instance",
    "_Feature"
   ],
   "window_display": false
  }
 },
 "nbformat": 4,
 "nbformat_minor": 5
}
